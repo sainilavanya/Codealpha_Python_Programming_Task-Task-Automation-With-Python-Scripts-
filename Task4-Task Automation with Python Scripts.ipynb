{
 "cells": [
  {
   "cell_type": "code",
   "execution_count": 2,
   "id": "0a7e3999-dacc-4d29-8ebd-a119f5bed5a1",
   "metadata": {},
   "outputs": [
    {
     "name": "stdout",
     "output_type": "stream",
     "text": [
      "Files in C:\\Users\\saini\\OneDrive\\Desktop\\folder have been organized by extension.\n"
     ]
    }
   ],
   "source": [
    "import os\n",
    "import shutil\n",
    "\n",
    "# Specify the directory to be organized\n",
    "directory = 'C:\\\\Users\\\\saini\\\\OneDrive\\\\Desktop\\\\folder'\n",
    "\n",
    "# Function to organize files\n",
    "def organize_files(folder):\n",
    "    # List all the files in the directory\n",
    "    for filename in os.listdir(folder):\n",
    "        # Skip directories\n",
    "        if os.path.isdir(os.path.join(folder, filename)):\n",
    "            continue\n",
    "        \n",
    "        # Get the file extension\n",
    "        file_extension = filename.split('.')[-1]\n",
    "        file_extension = file_extension.lower()\n",
    "        \n",
    "        # Create a folder for each file extension\n",
    "        dest_folder = os.path.join(folder, file_extension)\n",
    "        if not os.path.exists(dest_folder):\n",
    "            os.makedirs(dest_folder)\n",
    "        \n",
    "        # Move the file to the corresponding folder\n",
    "        source = os.path.join(folder, filename)\n",
    "        destination = os.path.join(dest_folder, filename)\n",
    "        shutil.move(source, destination)\n",
    "\n",
    "    print(f\"Files in {folder} have been organized by extension.\")\n",
    "\n",
    "# Call the function\n",
    "organize_files(directory)\n"
   ]
  },
  {
   "cell_type": "code",
   "execution_count": null,
   "id": "6f0c78df-34ad-442f-bd94-c1c2d772eebd",
   "metadata": {},
   "outputs": [],
   "source": []
  }
 ],
 "metadata": {
  "kernelspec": {
   "display_name": "Python 3 (ipykernel)",
   "language": "python",
   "name": "python3"
  },
  "language_info": {
   "codemirror_mode": {
    "name": "ipython",
    "version": 3
   },
   "file_extension": ".py",
   "mimetype": "text/x-python",
   "name": "python",
   "nbconvert_exporter": "python",
   "pygments_lexer": "ipython3",
   "version": "3.11.7"
  }
 },
 "nbformat": 4,
 "nbformat_minor": 5
}
